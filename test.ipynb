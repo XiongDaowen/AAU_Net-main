{
 "cells": [
  {
   "cell_type": "code",
   "execution_count": 25,
   "metadata": {},
   "outputs": [
    {
     "name": "stdout",
     "output_type": "stream",
     "text": [
      "tensor([[[-1.2658,  0.2415, -0.1747],\n",
      "         [ 0.2425, -0.1492, -0.3996]],\n",
      "\n",
      "        [[-1.2191,  1.6979,  1.0840],\n",
      "         [ 0.9912, -1.3979,  0.6362]],\n",
      "\n",
      "        [[-0.4706,  1.2483,  0.1780],\n",
      "         [ 0.1115, -0.4848,  0.8662]]], requires_grad=True)\n",
      "tensor([[[ 0.7787, -1.0682, -0.0320],\n",
      "         [ 0.2264, -0.6252,  0.0018]],\n",
      "\n",
      "        [[ 0.4716, -0.7646, -0.7810],\n",
      "         [-1.0217, -1.2129, -0.1765]],\n",
      "\n",
      "        [[ 0.7006,  0.9471, -1.0135],\n",
      "         [ 1.3402,  1.5776, -0.7015]]])\n",
      "tensor([[[2.0445, 1.3096, 0.1427],\n",
      "         [0.0161, 0.4760, 0.4015]],\n",
      "\n",
      "        [[1.6907, 2.4625, 1.8650],\n",
      "         [2.0129, 0.1849, 0.8127]],\n",
      "\n",
      "        [[1.1711, 0.3012, 1.1915],\n",
      "         [1.2288, 2.0624, 1.5677]]], grad_fn=<L1LossBackward0>)\n"
     ]
    }
   ],
   "source": [
    "import torch\n",
    "loss_fun = torch.nn.L1Loss(reduction='none')\n",
    "input = torch.randn(3, 2,3, requires_grad=True)\n",
    "target = torch.randn(3, 2,3)\n",
    "output = loss_fun(input, target)\n",
    "print(input)\n",
    "print(target)  \n",
    "print(output)"
   ]
  },
  {
   "cell_type": "code",
   "execution_count": 3,
   "metadata": {},
   "outputs": [
    {
     "ename": "TypeError",
     "evalue": "class_method() takes 2 positional arguments but 3 were given",
     "output_type": "error",
     "traceback": [
      "\u001b[1;31m---------------------------------------------------------------------------\u001b[0m",
      "\u001b[1;31mTypeError\u001b[0m                                 Traceback (most recent call last)",
      "\u001b[1;32m~\\AppData\\Local\\Temp\\ipykernel_19828\\397266189.py\u001b[0m in \u001b[0;36m<module>\u001b[1;34m\u001b[0m\n\u001b[0;32m     12\u001b[0m \u001b[0ma\u001b[0m \u001b[1;33m=\u001b[0m \u001b[0mA\u001b[0m\u001b[1;33m(\u001b[0m\u001b[1;33m)\u001b[0m\u001b[1;33m\u001b[0m\u001b[1;33m\u001b[0m\u001b[0m\n\u001b[0;32m     13\u001b[0m \u001b[0mb\u001b[0m \u001b[1;33m=\u001b[0m \u001b[0mB\u001b[0m\u001b[1;33m(\u001b[0m\u001b[1;33m)\u001b[0m\u001b[1;33m\u001b[0m\u001b[1;33m\u001b[0m\u001b[0m\n\u001b[1;32m---> 14\u001b[1;33m \u001b[0mA\u001b[0m\u001b[1;33m.\u001b[0m\u001b[0mclass_method\u001b[0m\u001b[1;33m(\u001b[0m\u001b[0mA\u001b[0m\u001b[1;33m,\u001b[0m\u001b[1;34m'I am class'\u001b[0m\u001b[1;33m)\u001b[0m\u001b[1;33m\u001b[0m\u001b[1;33m\u001b[0m\u001b[0m\n\u001b[0m\u001b[0;32m     15\u001b[0m \u001b[0ma\u001b[0m\u001b[1;33m.\u001b[0m\u001b[0mclass_method\u001b[0m\u001b[1;33m(\u001b[0m\u001b[1;34m'I am instance'\u001b[0m\u001b[1;33m)\u001b[0m\u001b[1;33m\u001b[0m\u001b[1;33m\u001b[0m\u001b[0m\n\u001b[0;32m     16\u001b[0m \u001b[0mB\u001b[0m\u001b[1;33m.\u001b[0m\u001b[0mclass_method\u001b[0m\u001b[1;33m(\u001b[0m\u001b[1;34m'I am B class'\u001b[0m\u001b[1;33m)\u001b[0m\u001b[1;33m\u001b[0m\u001b[1;33m\u001b[0m\u001b[0m\n",
      "\u001b[1;31mTypeError\u001b[0m: class_method() takes 2 positional arguments but 3 were given"
     ]
    }
   ],
   "source": [
    "class A(object):\n",
    "    name = 'I am Class A'\n",
    " \n",
    "    @classmethod\n",
    "    def class_method(cls, s):\n",
    "        print(cls.name)  # 可以访问类成员print(cls.name)     # 可以访问类成员\n",
    "        print(f\"class_method : {cls} :: {s}\")\n",
    " \n",
    "class B(A):\n",
    "    name = 'I am Class B'  \n",
    "    \n",
    "a = A()\n",
    "b = B()\n",
    "A.class_method('I am class')\n",
    "a.class_method('I am instance')\n",
    "B.class_method('I am B class')\n",
    "b.class_method('I am b instance')\n"
   ]
  }
 ],
 "metadata": {
  "kernelspec": {
   "display_name": "base",
   "language": "python",
   "name": "python3"
  },
  "language_info": {
   "codemirror_mode": {
    "name": "ipython",
    "version": 3
   },
   "file_extension": ".py",
   "mimetype": "text/x-python",
   "name": "python",
   "nbconvert_exporter": "python",
   "pygments_lexer": "ipython3",
   "version": "3.11.4"
  },
  "orig_nbformat": 4
 },
 "nbformat": 4,
 "nbformat_minor": 2
}
